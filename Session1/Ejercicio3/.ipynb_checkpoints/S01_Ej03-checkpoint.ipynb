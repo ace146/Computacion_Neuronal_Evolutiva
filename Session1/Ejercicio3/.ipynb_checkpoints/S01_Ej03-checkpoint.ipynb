{
 "cells": [
  {
   "cell_type": "code",
   "execution_count": 29,
   "metadata": {},
   "outputs": [
    {
     "name": "stdout",
     "output_type": "stream",
     "text": [
      "['', 'tmed_2015', 'tmed_2016']\n",
      "['0', '16.0', '21.6']\n",
      "['1', '14.9', '22.3']\n",
      "['2', '13.2', '23.2']\n",
      "['3', '13.0', '23.6']\n",
      "['4', '12.6', '22.0']\n",
      "['5', '14.2', '23.0']\n",
      "['6', '13.6', '24.4']\n",
      "['7', '14.3', '18.2']\n",
      "['8', '15.6', '20.0']\n",
      "['9', '17.3', '19.0']\n",
      "['10', '17.0', '20.6']\n",
      "['11', '18.9', '21.2']\n",
      "['12', '14.6', '15.2']\n",
      "['13', '14.7', '12.0']\n",
      "['14', '12.8', '10.6']\n",
      "['15', '14.4', '14.0']\n",
      "['16', '9.9', '11.0']\n",
      "['17', '10.8', '12.8']\n",
      "['18', '14.4', '11.6']\n",
      "['19', '15.3', '14.5']\n",
      "['20', '15.0', '15.4']\n",
      "['21', '14.2', '16.2']\n",
      "['22', '13.5', '18.0']\n",
      "['23', '15.5', '17.0']\n",
      "['24', '15.6', '15.8']\n",
      "['25', '16.0', '16.2']\n",
      "['26', '14.3', '14.5']\n",
      "['27', '13.3', '17.8']\n",
      "['28', '12.8', '17.4']\n",
      "['29', '14.8', '16.7']\n",
      "['30', '13.6', '16.2']\n"
     ]
    },
    {
     "data": {
      "image/png": "[encoded data removed]",
      "text/plain": [
       "<Figure size 432x288 with 1 Axes>"
      ]
     },
     "metadata": {
      "needs_background": "light"
     },
     "output_type": "display_data"
    }
   ],
   "source": [
    "import csv\n",
    "import matplotlib.pyplot as plt\n",
    "import numpy as np\n",
    "\n",
    "csvfile = open('datos_sept15+16_burgos.csv', 'r')\n",
    "reader = csv.reader(csvfile, delimiter = ',')\n",
    "tmed_2015 = []\n",
    "tmed_2016 = []\n",
    "for fila in reader:\n",
    "    print(fila)\n",
    "    if (fila[0]):\n",
    "        tmed_2015.append(float(fila[1].replace(\",\",\".\")))\n",
    "        tmed_2016.append(float(fila[2].replace(\",\",\".\")))\n",
    "\n",
    "fig, ax = plt.subplots()\n",
    "width = 0.3\n",
    "x = np.arange(len(tmed_2015))\n",
    "p1 = ax.bar(x + width/2, tmed_2015, width, color = 'r')\n",
    "p2 = ax.bar(x - width/2,  tmed_2016, width, color = 'blue')\n",
    "\n",
    "\n",
    "plt.ylabel('Temperatura')\n",
    "plt.title('Dia del Mes')\n",
    "plt.legend((p1[0], p2[0]), ('2015', '2016'))\n",
    "fig.tight_layout()\n",
    "plt.show()"
   ]
  },
  {
   "cell_type": "code",
   "execution_count": null,
   "metadata": {},
   "outputs": [],
   "source": []
  }
 ],
 "metadata": {
  "kernelspec": {
   "display_name": "Python 3",
   "language": "python",
   "name": "python3"
  },
  "language_info": {
   "codemirror_mode": {
    "name": "ipython",
    "version": 3
   },
   "file_extension": ".py",
   "mimetype": "text/x-python",
   "name": "python",
   "nbconvert_exporter": "python",
   "pygments_lexer": "ipython3",
   "version": "3.7.3"
  }
 },
 "nbformat": 4,
 "nbformat_minor": 2
}
